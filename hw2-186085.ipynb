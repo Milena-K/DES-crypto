{
 "cells": [
  {
   "cell_type": "markdown",
   "id": "c9c1a350-67b7-45d9-83d0-c626dfa343c4",
   "metadata": {},
   "source": [
    "# Домашна задача 2 - DES"
   ]
  },
  {
   "cell_type": "markdown",
   "id": "21f4ca44-cd35-49a3-b3db-2294a02930b7",
   "metadata": {},
   "source": [
    "Милена Кукољ 186085"
   ]
  },
  {
   "attachments": {},
   "cell_type": "markdown",
   "id": "2484298b-3fcd-4fc5-9c98-a194aa9f7689",
   "metadata": {},
   "source": [
    "Ја користев библиотеката des https://pypi.org/project/des/ \n",
    "која ја изменив во некои делови од кодот, за да можам да ги прикажам \n",
    "на екран некои од вредностите кои што се бараа во домашната задача. За да може да се изврши овој notebook треба да се активира виртуелната околина како што е прикажано подоле."
   ]
  },
  {
   "cell_type": "markdown",
   "id": "8ebe431e-c219-4286-b813-d9ff32ab04a0",
   "metadata": {},
   "source": [
    "> https://janakiev.com/blog/jupyter-virtual-envs/#add-virtual-environment-to-jupyter-notebook\n",
    "```bash\n",
    "source venv/bin/activate\n",
    "pip install --user ipykernel\n",
    "python -m ipykernel install --user --name=venv\n",
    "Kernel > Change Kernel... > venv > Select\n",
    "```"
   ]
  },
  {
   "cell_type": "code",
   "execution_count": 1,
   "id": "6b4e3f96-2a6f-4b51-89fb-077fe1796099",
   "metadata": {
    "editable": true,
    "slideshow": {
     "slide_type": ""
    },
    "tags": []
   },
   "outputs": [],
   "source": [
    "import sys\n",
    "from des import DesKey"
   ]
  },
  {
   "cell_type": "code",
   "execution_count": 2,
   "id": "cb1dbe56-1748-4032-b9d0-cc1133e4423a",
   "metadata": {},
   "outputs": [],
   "source": [
    "def test_des(key_text, message):\n",
    "    key = DesKey(key_text)\n",
    "    print(\"======================\")\n",
    "    print(f\"DES: {key.is_single()}\") # is it single DES or triple 3DES\n",
    "    encrypted = key.encrypt(message)\n",
    "    # decrypted = key.decrypt(encrypted)\n",
    "\n",
    "    print(f\"> the key is\")\n",
    "    print(key_text)\n",
    "    print('\\n'.join(format(byte, '08b') for byte in key_text))\n",
    "    print(f\"and the size in bytes is {len(key_text)}\")\n",
    "    print(\"> the message is\")\n",
    "    print(message)\n",
    "    print('\\n'.join(format(byte, '08b') for byte in message))\n",
    "    print(f\"and the size in bytes is {len(message)}\")\n",
    "    print(\"> the encrypted message is:\")\n",
    "    print(encrypted)\n",
    "    print('\\n'.join(format(byte, '08b') for byte in encrypted))\n",
    "    # print(\"> the decrypted message is:\")\n",
    "    # print(decrypted)\n",
    "    # print('\\n'.join(format(byte, '08b') for byte in decrypted))\n",
    "    print(\"======================\")\n"
   ]
  },
  {
   "cell_type": "markdown",
   "id": "68c11f7f-38b2-4c35-a720-723558f77538",
   "metadata": {},
   "source": [
    "## Пример 1 - клуч 0 порака 0"
   ]
  },
  {
   "cell_type": "code",
   "execution_count": 3,
   "id": "6e35e1a9-9e22-4f7c-8272-e093ebe71d0f",
   "metadata": {
    "scrolled": true
   },
   "outputs": [
    {
     "name": "stdout",
     "output_type": "stream",
     "text": [
      "======================\n",
      "DES: True\n",
      "======================\n",
      "This is the first encoded block\n",
      "11011000\n",
      "11011000\n",
      "11011011\n",
      "10111100\n",
      "======================\n",
      "Round keys:\n",
      "(0, 0, 0, 0, 0, 0, 0, 0, 0, 0, 0, 0, 0, 0, 0, 0)\n",
      "======================\n",
      "> the key is\n",
      "b'\\x00\\x00\\x00\\x00\\x00\\x00\\x00\\x00'\n",
      "00000000\n",
      "00000000\n",
      "00000000\n",
      "00000000\n",
      "00000000\n",
      "00000000\n",
      "00000000\n",
      "00000000\n",
      "and the size in bytes is 8\n",
      "> the message is\n",
      "b'\\x00\\x00\\x00\\x00\\x00\\x00\\x00\\x00\\x00\\x00\\x00\\x00\\x00\\x00\\x00\\x00\\x00\\x00\\x00\\x00\\x00\\x00\\x00\\x00\\x00\\x00\\x00\\x00\\x00\\x00\\x00\\x00'\n",
      "00000000\n",
      "00000000\n",
      "00000000\n",
      "00000000\n",
      "00000000\n",
      "00000000\n",
      "00000000\n",
      "00000000\n",
      "00000000\n",
      "00000000\n",
      "00000000\n",
      "00000000\n",
      "00000000\n",
      "00000000\n",
      "00000000\n",
      "00000000\n",
      "00000000\n",
      "00000000\n",
      "00000000\n",
      "00000000\n",
      "00000000\n",
      "00000000\n",
      "00000000\n",
      "00000000\n",
      "00000000\n",
      "00000000\n",
      "00000000\n",
      "00000000\n",
      "00000000\n",
      "00000000\n",
      "00000000\n",
      "00000000\n",
      "and the size in bytes is 32\n",
      "> the encrypted message is:\n",
      "b'\\x8c\\xa6M\\xe9\\xc1\\xb1#\\xa7\\x8c\\xa6M\\xe9\\xc1\\xb1#\\xa7\\x8c\\xa6M\\xe9\\xc1\\xb1#\\xa7\\x8c\\xa6M\\xe9\\xc1\\xb1#\\xa7'\n",
      "10001100\n",
      "10100110\n",
      "01001101\n",
      "11101001\n",
      "11000001\n",
      "10110001\n",
      "00100011\n",
      "10100111\n",
      "10001100\n",
      "10100110\n",
      "01001101\n",
      "11101001\n",
      "11000001\n",
      "10110001\n",
      "00100011\n",
      "10100111\n",
      "10001100\n",
      "10100110\n",
      "01001101\n",
      "11101001\n",
      "11000001\n",
      "10110001\n",
      "00100011\n",
      "10100111\n",
      "10001100\n",
      "10100110\n",
      "01001101\n",
      "11101001\n",
      "11000001\n",
      "10110001\n",
      "00100011\n",
      "10100111\n",
      "======================\n"
     ]
    }
   ],
   "source": [
    "####### test output when key and message are 0s.\n",
    "keyA = b\"\\x00\"*8\n",
    "messageA = b\"\\x00\"*32\n",
    "test_des(keyA, messageA)"
   ]
  },
  {
   "cell_type": "markdown",
   "id": "470b0f5e-0793-4bd0-8d98-a9baa425c8e1",
   "metadata": {},
   "source": [
    "Првите 8 бајти на енкриптираната порака се исти со вторите 8 бајти. Тоа е така затоа што се користи истата порака и истиот клуч, и затоа добиваме ист резултат. Рундовските клучеви се сите исти, што значи дека овој клуч е слаб."
   ]
  },
  {
   "cell_type": "markdown",
   "id": "fead75d3-2c53-4547-881e-c649e2699bf0",
   "metadata": {},
   "source": [
    "## Пример 2 - клуч 1 порака 1"
   ]
  },
  {
   "cell_type": "code",
   "execution_count": 4,
   "id": "3e2e8057-9d6b-400f-b3a3-4ba0b87f5f93",
   "metadata": {
    "scrolled": true
   },
   "outputs": [
    {
     "name": "stdout",
     "output_type": "stream",
     "text": [
      "======================\n",
      "DES: True\n",
      "======================\n",
      "This is the first encoded block\n",
      "10011100\n",
      "10011100\n",
      "10010001\n",
      "000011\n",
      "======================\n",
      "Round keys:\n",
      "(281474976710655, 281474976710655, 281474976710655, 281474976710655, 281474976710655, 281474976710655, 281474976710655, 281474976710655, 281474976710655, 281474976710655, 281474976710655, 281474976710655, 281474976710655, 281474976710655, 281474976710655, 281474976710655)\n",
      "======================\n",
      "> the key is\n",
      "b'\\xff\\xff\\xff\\xff\\xff\\xff\\xff\\xff'\n",
      "11111111\n",
      "11111111\n",
      "11111111\n",
      "11111111\n",
      "11111111\n",
      "11111111\n",
      "11111111\n",
      "11111111\n",
      "and the size in bytes is 8\n",
      "> the message is\n",
      "b'\\xff\\xff\\xff\\xff\\xff\\xff\\xff\\xff\\xff\\xff\\xff\\xff\\xff\\xff\\xff\\xff\\xff\\xff\\xff\\xff\\xff\\xff\\xff\\xff\\xff\\xff\\xff\\xff\\xff\\xff\\xff\\xff'\n",
      "11111111\n",
      "11111111\n",
      "11111111\n",
      "11111111\n",
      "11111111\n",
      "11111111\n",
      "11111111\n",
      "11111111\n",
      "11111111\n",
      "11111111\n",
      "11111111\n",
      "11111111\n",
      "11111111\n",
      "11111111\n",
      "11111111\n",
      "11111111\n",
      "11111111\n",
      "11111111\n",
      "11111111\n",
      "11111111\n",
      "11111111\n",
      "11111111\n",
      "11111111\n",
      "11111111\n",
      "11111111\n",
      "11111111\n",
      "11111111\n",
      "11111111\n",
      "11111111\n",
      "11111111\n",
      "11111111\n",
      "11111111\n",
      "and the size in bytes is 32\n",
      "> the encrypted message is:\n",
      "b'sY\\xb2\\x16>N\\xdcXsY\\xb2\\x16>N\\xdcXsY\\xb2\\x16>N\\xdcXsY\\xb2\\x16>N\\xdcX'\n",
      "01110011\n",
      "01011001\n",
      "10110010\n",
      "00010110\n",
      "00111110\n",
      "01001110\n",
      "11011100\n",
      "01011000\n",
      "01110011\n",
      "01011001\n",
      "10110010\n",
      "00010110\n",
      "00111110\n",
      "01001110\n",
      "11011100\n",
      "01011000\n",
      "01110011\n",
      "01011001\n",
      "10110010\n",
      "00010110\n",
      "00111110\n",
      "01001110\n",
      "11011100\n",
      "01011000\n",
      "01110011\n",
      "01011001\n",
      "10110010\n",
      "00010110\n",
      "00111110\n",
      "01001110\n",
      "11011100\n",
      "01011000\n",
      "======================\n"
     ]
    }
   ],
   "source": [
    "####### test round keys of a key of all 1s.\n",
    "keyB = b\"\\xFF\"*8\n",
    "messageB = b\"\\xFF\"*32\n",
    "test_des(keyB, messageB)"
   ]
  },
  {
   "cell_type": "markdown",
   "id": "d83635fb-b930-4fdb-9075-9b000029cdb3",
   "metadata": {},
   "source": [
    "Тука недостасуваат два бита, немам идеа зошто. Рундовските клучеви се сите исти, што значи дека овој клуч е слаб. Секои 8 бајти се исти со следните 8 бајти, како и во минатиот пример."
   ]
  },
  {
   "cell_type": "markdown",
   "id": "31d5242f-f1b7-481e-a5e0-d4169b6992f0",
   "metadata": {},
   "source": [
    "## Пример 3 - клуч 0 порака 0 со промена во 1 "
   ]
  },
  {
   "cell_type": "markdown",
   "id": "4db57204-27d2-4b47-b576-8517ecda3f42",
   "metadata": {},
   "source": [
    "### Промена на бит во првите 8 бајти од пораката"
   ]
  },
  {
   "cell_type": "code",
   "execution_count": 5,
   "id": "e77f1943-02ea-428b-beeb-c7642cdba882",
   "metadata": {
    "scrolled": true
   },
   "outputs": [
    {
     "name": "stdout",
     "output_type": "stream",
     "text": [
      "======================\n",
      "DES: True\n",
      "======================\n",
      "This is the first encoded block\n",
      "11011001\n",
      "11011000\n",
      "11011011\n",
      "10111100\n",
      "======================\n",
      "Round keys:\n",
      "(0, 0, 0, 0, 0, 0, 0, 0, 0, 0, 0, 0, 0, 0, 0, 0)\n",
      "======================\n",
      "> the key is\n",
      "b'\\x00\\x00\\x00\\x00\\x00\\x00\\x00\\x00'\n",
      "00000000\n",
      "00000000\n",
      "00000000\n",
      "00000000\n",
      "00000000\n",
      "00000000\n",
      "00000000\n",
      "00000000\n",
      "and the size in bytes is 8\n",
      "> the message is\n",
      "b'@\\x00\\x00\\x00\\x00\\x00\\x00\\x00\\x00\\x00\\x00\\x00\\x00\\x00\\x00\\x00\\x00\\x00\\x00\\x00\\x00\\x00\\x00\\x00\\x00\\x00\\x00\\x00\\x00\\x00\\x00\\x00'\n",
      "01000000\n",
      "00000000\n",
      "00000000\n",
      "00000000\n",
      "00000000\n",
      "00000000\n",
      "00000000\n",
      "00000000\n",
      "00000000\n",
      "00000000\n",
      "00000000\n",
      "00000000\n",
      "00000000\n",
      "00000000\n",
      "00000000\n",
      "00000000\n",
      "00000000\n",
      "00000000\n",
      "00000000\n",
      "00000000\n",
      "00000000\n",
      "00000000\n",
      "00000000\n",
      "00000000\n",
      "00000000\n",
      "00000000\n",
      "00000000\n",
      "00000000\n",
      "00000000\n",
      "00000000\n",
      "00000000\n",
      "00000000\n",
      "and the size in bytes is 32\n",
      "> the encrypted message is:\n",
      "b'\\xdd\\x7f\\x12\\x1c\\xa5\\x01V\\x19\\x8c\\xa6M\\xe9\\xc1\\xb1#\\xa7\\x8c\\xa6M\\xe9\\xc1\\xb1#\\xa7\\x8c\\xa6M\\xe9\\xc1\\xb1#\\xa7'\n",
      "11011101\n",
      "01111111\n",
      "00010010\n",
      "00011100\n",
      "10100101\n",
      "00000001\n",
      "01010110\n",
      "00011001\n",
      "10001100\n",
      "10100110\n",
      "01001101\n",
      "11101001\n",
      "11000001\n",
      "10110001\n",
      "00100011\n",
      "10100111\n",
      "10001100\n",
      "10100110\n",
      "01001101\n",
      "11101001\n",
      "11000001\n",
      "10110001\n",
      "00100011\n",
      "10100111\n",
      "10001100\n",
      "10100110\n",
      "01001101\n",
      "11101001\n",
      "11000001\n",
      "10110001\n",
      "00100011\n",
      "10100111\n",
      "======================\n"
     ]
    }
   ],
   "source": [
    "####### test output when key is 0 and message has 1 bit changed in the first 8 bytes\n",
    "keyC = b\"\\x00\"*8\n",
    "messageC = b\"\\x00\"*32\n",
    "modMessageC = bytearray(messageC)\n",
    "modMessageC[0] ^= 0b01000000\n",
    "test_des(keyC, bytes(modMessageC))"
   ]
  },
  {
   "cell_type": "markdown",
   "id": "32cae6af-278f-45dc-aa39-e4ff6dd407a1",
   "metadata": {},
   "source": [
    "Промената на еден бит во првите 8 бајти предизвикува промена во 16 бита, тоа е авеланч ефектот. Споредбата е направена со Пример 1."
   ]
  },
  {
   "cell_type": "markdown",
   "id": "d0cb4f7f-79f6-434e-a77f-0b37828e787a",
   "metadata": {},
   "source": [
    "![primer1_primer3.1_first_block](diff1.png)"
   ]
  },
  {
   "cell_type": "markdown",
   "id": "cf99d720-a509-4552-8f93-7acadc864359",
   "metadata": {},
   "source": [
    "### Промена на бит во вторите 8 бајти од пораката"
   ]
  },
  {
   "cell_type": "code",
   "execution_count": 6,
   "id": "d00b77ac-1b4a-4c74-b997-43cc0451fa87",
   "metadata": {
    "scrolled": true
   },
   "outputs": [
    {
     "name": "stdout",
     "output_type": "stream",
     "text": [
      "======================\n",
      "DES: True\n",
      "======================\n",
      "This is the first encoded block\n",
      "11011000\n",
      "11011000\n",
      "11011011\n",
      "10111100\n",
      "======================\n",
      "Round keys:\n",
      "(0, 0, 0, 0, 0, 0, 0, 0, 0, 0, 0, 0, 0, 0, 0, 0)\n",
      "======================\n",
      "> the key is\n",
      "b'\\x00\\x00\\x00\\x00\\x00\\x00\\x00\\x00'\n",
      "00000000\n",
      "00000000\n",
      "00000000\n",
      "00000000\n",
      "00000000\n",
      "00000000\n",
      "00000000\n",
      "00000000\n",
      "and the size in bytes is 8\n",
      "> the message is\n",
      "b'\\x00\\x00\\x00\\x00\\x00\\x00\\x00\\x00\\x01\\x00\\x00\\x00\\x00\\x00\\x00\\x00\\x00\\x00\\x00\\x00\\x00\\x00\\x00\\x00\\x00\\x00\\x00\\x00\\x00\\x00\\x00\\x00'\n",
      "00000000\n",
      "00000000\n",
      "00000000\n",
      "00000000\n",
      "00000000\n",
      "00000000\n",
      "00000000\n",
      "00000000\n",
      "00000001\n",
      "00000000\n",
      "00000000\n",
      "00000000\n",
      "00000000\n",
      "00000000\n",
      "00000000\n",
      "00000000\n",
      "00000000\n",
      "00000000\n",
      "00000000\n",
      "00000000\n",
      "00000000\n",
      "00000000\n",
      "00000000\n",
      "00000000\n",
      "00000000\n",
      "00000000\n",
      "00000000\n",
      "00000000\n",
      "00000000\n",
      "00000000\n",
      "00000000\n",
      "00000000\n",
      "and the size in bytes is 32\n",
      "> the encrypted message is:\n",
      "b\"\\x8c\\xa6M\\xe9\\xc1\\xb1#\\xa7\\r\\x9f'\\x9b\\xa5\\xd8r`\\x8c\\xa6M\\xe9\\xc1\\xb1#\\xa7\\x8c\\xa6M\\xe9\\xc1\\xb1#\\xa7\"\n",
      "10001100\n",
      "10100110\n",
      "01001101\n",
      "11101001\n",
      "11000001\n",
      "10110001\n",
      "00100011\n",
      "10100111\n",
      "00001101\n",
      "10011111\n",
      "00100111\n",
      "10011011\n",
      "10100101\n",
      "11011000\n",
      "01110010\n",
      "01100000\n",
      "10001100\n",
      "10100110\n",
      "01001101\n",
      "11101001\n",
      "11000001\n",
      "10110001\n",
      "00100011\n",
      "10100111\n",
      "10001100\n",
      "10100110\n",
      "01001101\n",
      "11101001\n",
      "11000001\n",
      "10110001\n",
      "00100011\n",
      "10100111\n",
      "======================\n"
     ]
    }
   ],
   "source": [
    "####### test output when key is 0 and message has 1 bit changed in the second 8 bytes\n",
    "keyC = b\"\\x00\"*8\n",
    "messageC = b\"\\x00\"*32\n",
    "modMessageC = bytearray(messageC)\n",
    "modMessageC[8] ^= 0b00000001     # changed to modMessageC[8]\n",
    "test_des(keyC, bytes(modMessageC))"
   ]
  },
  {
   "cell_type": "markdown",
   "id": "f9fc0930-b27a-4d89-9af3-6dece5e8feec",
   "metadata": {},
   "source": [
    "![primer1_primer3.1_first_block](diff2.png)"
   ]
  },
  {
   "cell_type": "markdown",
   "id": "d11e1ec9-8df0-4032-b0e8-412b39149b92",
   "metadata": {},
   "source": [
    "Сега промената е направена во бит кој се наоѓа во вторите 8 бајти од пораката. Ефектот на авеланч е голем, за промена на еден бит, променети се повеќе од половина од битовите. Нема разлика во енкрипцијата на првиот блок од 8 бајти, но има во вториот блок. Се повторуваат вредностите во вториот и третиот блок од 8 бајти."
   ]
  },
  {
   "cell_type": "markdown",
   "id": "caacc192-86a6-4e16-9a73-080c6efb9cc2",
   "metadata": {},
   "source": [
    "## Слаби клучеви"
   ]
  },
  {
   "cell_type": "markdown",
   "id": "43f711cb-3c0d-441d-a38a-f4c1ef8e9c60",
   "metadata": {},
   "source": [
    "Овие клучеви се со битовите за парност. [Извор](https://ijariie.com/AdminUploadPdf/ANALYSIS_OF_WEAK_KEYS_ON_DES__ALGORITHM_ijariie10690.pdf)"
   ]
  },
  {
   "cell_type": "markdown",
   "id": "82ea6518-3be7-4895-a58d-1b0279385151",
   "metadata": {},
   "source": [
    "Клучевите не треба да се користат бидејќи како што е покажано во функцијата подоле, со два пати извршување на функцијата за енкриптирање со истиот клуч, се добива оригиналната порака. "
   ]
  },
  {
   "cell_type": "code",
   "execution_count": 62,
   "id": "490dd62b-65fc-4273-ab02-83ca8584311f",
   "metadata": {},
   "outputs": [],
   "source": [
    "def is_weak_key(key, message):\n",
    "    key_des = DesKey(key)\n",
    "    encrypted = key_des.encrypt(message)\n",
    "    decrypted = key_des.encrypt(encrypted)\n",
    "    print(f\"Is the key {key.hex()} weak? {message == decrypted}\")"
   ]
  },
  {
   "cell_type": "code",
   "execution_count": 63,
   "id": "ac26aece-efc8-4541-bbbe-4c79002651e4",
   "metadata": {},
   "outputs": [
    {
     "name": "stdout",
     "output_type": "stream",
     "text": [
      "======================\n",
      "This is the first encoded block\n",
      "11011000\n",
      "11011000\n",
      "11011011\n",
      "10111100\n",
      "======================\n",
      "Round keys:\n",
      "(0, 0, 0, 0, 0, 0, 0, 0, 0, 0, 0, 0, 0, 0, 0, 0)\n",
      "======================\n",
      "======================\n",
      "This is the first encoded block\n",
      "10110001\n",
      "10010101\n",
      "10100001\n",
      "010\n",
      "======================\n",
      "Round keys:\n",
      "(0, 0, 0, 0, 0, 0, 0, 0, 0, 0, 0, 0, 0, 0, 0, 0)\n",
      "======================\n",
      "Is the key 0000000000000000 weak? True\n"
     ]
    }
   ],
   "source": [
    "weak_key_1 = 0x0000000000000000.to_bytes(8, byteorder='big')\n",
    "is_weak_key(weak_key_1, bytes(modMessageC))"
   ]
  },
  {
   "cell_type": "code",
   "execution_count": 64,
   "id": "690d3e54-43f2-4203-beba-4d00dac8de30",
   "metadata": {
    "scrolled": true
   },
   "outputs": [
    {
     "name": "stdout",
     "output_type": "stream",
     "text": [
      "======================\n",
      "This is the first encoded block\n",
      "11111000\n",
      "11011010\n",
      "11111011\n",
      "10011101\n",
      "======================\n",
      "Round keys:\n",
      "(16777215, 16777215, 16777215, 16777215, 16777215, 16777215, 16777215, 16777215, 16777215, 16777215, 16777215, 16777215, 16777215, 16777215, 16777215, 16777215)\n",
      "======================\n",
      "======================\n",
      "This is the first encoded block\n",
      "10100100\n",
      "01010001\n",
      "00101001\n",
      "01001010\n",
      "======================\n",
      "Round keys:\n",
      "(16777215, 16777215, 16777215, 16777215, 16777215, 16777215, 16777215, 16777215, 16777215, 16777215, 16777215, 16777215, 16777215, 16777215, 16777215, 16777215)\n",
      "======================\n",
      "Is the key 1f1f1f1f0e0e0e0e weak? True\n"
     ]
    }
   ],
   "source": [
    "weak_key_2 = 0x1F1F1F1F0E0E0E0E.to_bytes(8, byteorder='big')\n",
    "is_weak_key(weak_key_2, bytes(modMessageC))"
   ]
  },
  {
   "cell_type": "code",
   "execution_count": 65,
   "id": "b6b2773f-0df2-4310-8e2d-dedf6065960f",
   "metadata": {},
   "outputs": [
    {
     "name": "stdout",
     "output_type": "stream",
     "text": [
      "======================\n",
      "This is the first encoded block\n",
      "11000110\n",
      "11001110\n",
      "11001111\n",
      "01010\n",
      "======================\n",
      "Round keys:\n",
      "(281474959933440, 281474959933440, 281474959933440, 281474959933440, 281474959933440, 281474959933440, 281474959933440, 281474959933440, 281474959933440, 281474959933440, 281474959933440, 281474959933440, 281474959933440, 281474959933440, 281474959933440, 281474959933440)\n",
      "======================\n",
      "======================\n",
      "This is the first encoded block\n",
      "10001100\n",
      "11010111\n",
      "11101111\n",
      "10011011\n",
      "======================\n",
      "Round keys:\n",
      "(281474959933440, 281474959933440, 281474959933440, 281474959933440, 281474959933440, 281474959933440, 281474959933440, 281474959933440, 281474959933440, 281474959933440, 281474959933440, 281474959933440, 281474959933440, 281474959933440, 281474959933440, 281474959933440)\n",
      "======================\n",
      "Is the key e0e0e0e0f1f1f1f1 weak? True\n"
     ]
    }
   ],
   "source": [
    "weak_key_3 = 0xE0E0E0E0F1F1F1F1.to_bytes(8, byteorder='big')\n",
    "is_weak_key(weak_key_3, bytes(modMessageC))"
   ]
  },
  {
   "cell_type": "code",
   "execution_count": 66,
   "id": "5051b32b-9436-43b3-b9c7-938e5a236888",
   "metadata": {
    "scrolled": true
   },
   "outputs": [
    {
     "name": "stdout",
     "output_type": "stream",
     "text": [
      "======================\n",
      "This is the first encoded block\n",
      "11100011\n",
      "01101111\n",
      "11100111\n",
      "001011\n",
      "======================\n",
      "Round keys:\n",
      "(281474976710655, 281474976710655, 281474976710655, 281474976710655, 281474976710655, 281474976710655, 281474976710655, 281474976710655, 281474976710655, 281474976710655, 281474976710655, 281474976710655, 281474976710655, 281474976710655, 281474976710655, 281474976710655)\n",
      "======================\n",
      "======================\n",
      "This is the first encoded block\n",
      "10001110\n",
      "01010101\n",
      "10010000\n",
      "1100001\n",
      "======================\n",
      "Round keys:\n",
      "(281474976710655, 281474976710655, 281474976710655, 281474976710655, 281474976710655, 281474976710655, 281474976710655, 281474976710655, 281474976710655, 281474976710655, 281474976710655, 281474976710655, 281474976710655, 281474976710655, 281474976710655, 281474976710655)\n",
      "======================\n",
      "Is the key fefefefefefefefe weak? True\n"
     ]
    }
   ],
   "source": [
    "weak_key_4 = 0xFEFEFEFEFEFEFEFE.to_bytes(8, byteorder='big')\n",
    "is_weak_key(weak_key_4, bytes(modMessageC))"
   ]
  },
  {
   "cell_type": "code",
   "execution_count": 67,
   "id": "a0115212-b2a1-453f-8cb3-37730a8eaec2",
   "metadata": {},
   "outputs": [
    {
     "name": "stdout",
     "output_type": "stream",
     "text": [
      "======================\n",
      "This is the first encoded block\n",
      "11011000\n",
      "11011000\n",
      "11011011\n",
      "10111100\n",
      "======================\n",
      "Round keys:\n",
      "(0, 0, 0, 0, 0, 0, 0, 0, 0, 0, 0, 0, 0, 0, 0, 0)\n",
      "======================\n",
      "======================\n",
      "This is the first encoded block\n",
      "10110001\n",
      "10010101\n",
      "10100001\n",
      "010\n",
      "======================\n",
      "Round keys:\n",
      "(0, 0, 0, 0, 0, 0, 0, 0, 0, 0, 0, 0, 0, 0, 0, 0)\n",
      "======================\n",
      "Is the key 0101010101010101 weak? True\n"
     ]
    }
   ],
   "source": [
    "weak_key_5 = 0x0101010101010101.to_bytes(8, byteorder='big')\n",
    "is_weak_key(weak_key_5, bytes(modMessageC))"
   ]
  }
 ],
 "metadata": {
  "kernelspec": {
   "display_name": "venv",
   "language": "python",
   "name": "venv"
  },
  "language_info": {
   "codemirror_mode": {
    "name": "ipython",
    "version": 3
   },
   "file_extension": ".py",
   "mimetype": "text/x-python",
   "name": "python",
   "nbconvert_exporter": "python",
   "pygments_lexer": "ipython3",
   "version": "3.12.9"
  }
 },
 "nbformat": 4,
 "nbformat_minor": 5
}
